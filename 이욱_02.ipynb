{
 "cells": [
  {
   "cell_type": "code",
   "execution_count": 1,
   "metadata": {},
   "outputs": [],
   "source": [
    "import numpy as np"
   ]
  },
  {
   "cell_type": "code",
   "execution_count": 10,
   "metadata": {
    "scrolled": true
   },
   "outputs": [
    {
     "data": {
      "text/plain": [
       "array([[ 1,  0,  1],\n",
       "       [ 1,  0,  1],\n",
       "       [ 1,  0,  1],\n",
       "       ...,\n",
       "       [ 2, 85,  6],\n",
       "       [ 2, 85,  7],\n",
       "       [ 2, 85,  7]])"
      ]
     },
     "execution_count": 10,
     "metadata": {},
     "output_type": "execute_result"
    }
   ],
   "source": [
    "population = np.loadtxt(\"population.csv\", dtype = np.int32, delimiter = \",\")\n",
    "population"
   ]
  },
  {
   "cell_type": "markdown",
   "metadata": {},
   "source": [
    "##문제1"
   ]
  },
  {
   "cell_type": "code",
   "execution_count": 16,
   "metadata": {},
   "outputs": [],
   "source": [
    "def child_percent(X):#10대 이하 비율\n",
    "    X = X[np.where(X[:, 1] < 8)]\n",
    "    man = len(X[(X[:, 0] == 1) & (X[:, 1] < 8)]) / len(X)\n",
    "    woman = len(X[(X[:, 0] == 2) & (X[:, 1] < 8)]) / len(X)\n",
    "    print(\"\\t\\t남성 \\t여성\")\n",
    "    print(\"10대이하  \\t{} \\t{}\".format(round(man, 1), round(woman, 1)))"
   ]
  },
  {
   "cell_type": "code",
   "execution_count": 17,
   "metadata": {},
   "outputs": [],
   "source": [
    "def all_percent(X):#10대부터 50대 비율\n",
    "    for i in range(8, 58, 10):#만 나이이기 때문에 2를 빼줌\n",
    "        x = X[(X[:, 1] >= i & (X[:, 1] < (i + 10)))]#다른변수로 할당한 이유 초기화 방지\n",
    "        man = len(x[x[:, 0]  == 1]) / len(x)\n",
    "        woman = len(x[x[:, 0]  == 2]) / len(x)\n",
    "        print(\"{}대  \\t\\t{}  \\t{}\".format((i + 2), round(man,1), round(woman,1)))"
   ]
  },
  {
   "cell_type": "code",
   "execution_count": 18,
   "metadata": {},
   "outputs": [],
   "source": [
    "def grand_percent(X):#60대이상\n",
    "    X = X[X[:, 1] <= 85]\n",
    "    man = len(X[(X[:, 0] == 1) & (X[:, 1] <= 85)]) / len(X)\n",
    "    woman = len(X[(X[:, 0] == 2) & (X[:, 1] <= 85)]) / len(X)\n",
    "    print(\"60대이상  \\t{} \\t{}\".format(round(man, 1), round(woman, 1)))"
   ]
  },
  {
   "cell_type": "code",
   "execution_count": 19,
   "metadata": {},
   "outputs": [],
   "source": [
    "def main():\n",
    "    child_percent(population)\n",
    "    all_percent(population)\n",
    "    grand_percent(population)"
   ]
  },
  {
   "cell_type": "code",
   "execution_count": 20,
   "metadata": {},
   "outputs": [
    {
     "name": "stdout",
     "output_type": "stream",
     "text": [
      "\t\t남성 \t여성\n",
      "10대이하  \t0.5 \t0.5\n",
      "10대  \t\t0.5  \t0.5\n",
      "20대  \t\t0.5  \t0.5\n",
      "30대  \t\t0.5  \t0.5\n",
      "40대  \t\t0.5  \t0.5\n",
      "50대  \t\t0.5  \t0.5\n",
      "60대이상  \t0.5 \t0.5\n"
     ]
    }
   ],
   "source": [
    "if __name__ == \"__main__\":#메인함수 호출\n",
    "    main()"
   ]
  },
  {
   "cell_type": "markdown",
   "metadata": {},
   "source": [
    "##문제2"
   ]
  },
  {
   "cell_type": "code",
   "execution_count": 83,
   "metadata": {},
   "outputs": [],
   "source": [
    "def all_univercity_percent(X):\n",
    "    print(\"\\t 남성 \\t 여성 \\t 전체\")\n",
    "    for i in range(18, 58, 10):\n",
    "        school = X[(X[:, 1] >= i) & (X[:, 1] < (i + 10))] # 겹치는 나이값을 불린형 인덱싱해서 묶음\n",
    "        univercity = school[school[:, 2] >= 5]#대학진학한 사람의 수\n",
    "        man_uni = univercity[univercity[:, 0] == 1]#대학을 진학한 남자의 수\n",
    "        woman_uni = univercity[univercity[:, 0] == 2]#대학을 진학한 여자의 수\n",
    "        man = school[school[:, 0] == 1]#남자 전체 \n",
    "        woman = school[school[:, 0] == 2]#여자 전체\n",
    "        print(\"{}대 \\t {} \\t {} \\t {}\".format((i + 2), round(len(man_uni) / len(man), 1), round(len(woman_uni) / len(woman), 1), round(len(univercity) / len(school),1)))"
   ]
  },
  {
   "cell_type": "code",
   "execution_count": 85,
   "metadata": {},
   "outputs": [],
   "source": [
    "def sixteen_univercity_percent(X):#60대 이상 함수로 만듬 로직은 위와 동일\n",
    "    school = X[X[:, 1] >= 58]\n",
    "    univercity = school[school[:, 2] >= 5]\n",
    "    man_uni = univercity[univercity[:, 0] == 1]\n",
    "    woman_uni = univercity[univercity[:, 0] == 2]\n",
    "    man = school[school[:, 0] == 1]\n",
    "    woman = school[school[:, 0] == 2]\n",
    "    print(\"60대이상 {} \\t {} \\t {}\".format(round(len(man_uni) / len(man), 1), round(len(woman_uni) / len(woman), 1), round(len(univercity) / len(school),1)))"
   ]
  },
  {
   "cell_type": "code",
   "execution_count": 87,
   "metadata": {},
   "outputs": [],
   "source": [
    "def main():#메인함수 작성\n",
    "    all_univercity_percent(population)\n",
    "    sixteen_univercity_percent(population)"
   ]
  },
  {
   "cell_type": "code",
   "execution_count": 88,
   "metadata": {},
   "outputs": [
    {
     "name": "stdout",
     "output_type": "stream",
     "text": [
      "\t 남성 \t 여성 \t 전체\n",
      "20대 \t 0.7 \t 0.8 \t 0.8\n",
      "30대 \t 0.8 \t 0.8 \t 0.8\n",
      "40대 \t 0.6 \t 0.5 \t 0.5\n",
      "50대 \t 0.4 \t 0.2 \t 0.3\n",
      "60대이상 0.2 \t 0.1 \t 0.1\n"
     ]
    }
   ],
   "source": [
    "if __name__ == \"__main__\":#메인함수 호출\n",
    "    main()"
   ]
  },
  {
   "cell_type": "code",
   "execution_count": null,
   "metadata": {},
   "outputs": [],
   "source": []
  }
 ],
 "metadata": {
  "kernelspec": {
   "display_name": "Python 3",
   "language": "python",
   "name": "python3"
  },
  "language_info": {
   "codemirror_mode": {
    "name": "ipython",
    "version": 3
   },
   "file_extension": ".py",
   "mimetype": "text/x-python",
   "name": "python",
   "nbconvert_exporter": "python",
   "pygments_lexer": "ipython3",
   "version": "3.7.1"
  }
 },
 "nbformat": 4,
 "nbformat_minor": 2
}
